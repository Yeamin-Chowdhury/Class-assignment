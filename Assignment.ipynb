{
 "cells": [
  {
   "cell_type": "code",
   "execution_count": 2,
   "id": "265d286a",
   "metadata": {},
   "outputs": [
    {
     "name": "stdout",
     "output_type": "stream",
     "text": [
      "Enter the length of the rectangle: 9\n",
      "Enter the breadth of the rectangle: 7\n",
      "It's a rectangle.\n"
     ]
    }
   ],
   "source": [
    "def check_square_or_rectangle():\n",
    "    \n",
    "    length = float(input(\"Enter the length of the rectangle: \"))\n",
    "    breadth = float(input(\"Enter the breadth of the rectangle: \"))\n",
    "\n",
    "    \n",
    "    if length == breadth:\n",
    "        print(\"It's a square.\")\n",
    "    else:\n",
    "        print(\"It's a rectangle.\")\n",
    "\n",
    "if __name__ == \"__main__\":\n",
    "    check_square_or_rectangle()\n"
   ]
  },
  {
   "cell_type": "code",
   "execution_count": 3,
   "id": "3d945423",
   "metadata": {},
   "outputs": [
    {
     "name": "stdout",
     "output_type": "stream",
     "text": [
      "Enter the first integer: 4\n",
      "Enter the second integer: 5\n",
      "Enter the third integer: 6\n",
      "The greatest number among 4, 5, and 6 is: 6\n"
     ]
    }
   ],
   "source": [
    "def find_greatest_number():\n",
    "    \n",
    "    num1 = int(input(\"Enter the first integer: \"))\n",
    "    num2 = int(input(\"Enter the second integer: \"))\n",
    "    num3 = int(input(\"Enter the third integer: \"))\n",
    "\n",
    "    \n",
    "    greatest_number = max(num1, num2, num3)\n",
    "\n",
    "   \n",
    "    print(\"The greatest number among {}, {}, and {} is: {}\".format(num1, num2, num3, greatest_number))\n",
    "\n",
    "if __name__ == \"__main__\":\n",
    "    find_greatest_number()\n"
   ]
  },
  {
   "cell_type": "code",
   "execution_count": 4,
   "id": "c7a2a70a",
   "metadata": {},
   "outputs": [
    {
     "name": "stdout",
     "output_type": "stream",
     "text": [
      "Enter the attendance percentage: 45\n",
      "The student is not allowed to sit in the exam due to low attendance.\n"
     ]
    }
   ],
   "source": [
    "def check_attendance(attendance_percentage):\n",
    "    if attendance_percentage >= 75:\n",
    "        return True\n",
    "    else:\n",
    "        return False\n",
    "\n",
    "def main():\n",
    "    try:\n",
    "        # Take user input for attendance percentage\n",
    "        attendance_percentage = float(input(\"Enter the attendance percentage: \"))\n",
    "\n",
    "        # Check if the student is allowed to sit in the exam\n",
    "        if check_attendance(attendance_percentage):\n",
    "            print(\"The student is allowed to sit in the exam.\")\n",
    "        else:\n",
    "            print(\"The student is not allowed to sit in the exam due to low attendance.\")\n",
    "    except ValueError:\n",
    "        print(\"Invalid input. Please enter a valid attendance percentage as a number.\")\n",
    "\n",
    "if __name__ == \"__main__\":\n",
    "    main()\n"
   ]
  },
  {
   "cell_type": "code",
   "execution_count": 5,
   "id": "8602d1a7",
   "metadata": {},
   "outputs": [
    {
     "name": "stdout",
     "output_type": "stream",
     "text": [
      "Enter the marks: 45\n",
      "The grade for 45.0 marks is: D\n"
     ]
    }
   ],
   "source": [
    "def get_grade(marks):\n",
    "    if marks >= 90:\n",
    "        return 'A+'\n",
    "    elif marks >= 80:\n",
    "        return 'A'\n",
    "    elif marks >= 60:\n",
    "        return 'B'\n",
    "    elif marks >= 50:\n",
    "        return 'C'\n",
    "    elif marks >= 45:\n",
    "        return 'D'\n",
    "    elif marks >= 25:\n",
    "        return 'E'\n",
    "    else:\n",
    "        return 'F'\n",
    "\n",
    "def main():\n",
    "    try:\n",
    "        # Take user input for marks\n",
    "        marks = float(input(\"Enter the marks: \"))\n",
    "\n",
    "        # Get the corresponding grade\n",
    "        grade = get_grade(marks)\n",
    "\n",
    "        # Print the result\n",
    "        print(\"The grade for {} marks is: {}\".format(marks, grade))\n",
    "    except ValueError:\n",
    "        print(\"Invalid input. Please enter a valid numerical value for marks.\")\n",
    "\n",
    "if __name__ == \"__main__\":\n",
    "    main()\n"
   ]
  },
  {
   "cell_type": "code",
   "execution_count": null,
   "id": "e86a2df3",
   "metadata": {},
   "outputs": [],
   "source": []
  }
 ],
 "metadata": {
  "kernelspec": {
   "display_name": "Python 3 (ipykernel)",
   "language": "python",
   "name": "python3"
  },
  "language_info": {
   "codemirror_mode": {
    "name": "ipython",
    "version": 3
   },
   "file_extension": ".py",
   "mimetype": "text/x-python",
   "name": "python",
   "nbconvert_exporter": "python",
   "pygments_lexer": "ipython3",
   "version": "3.11.3"
  }
 },
 "nbformat": 4,
 "nbformat_minor": 5
}
